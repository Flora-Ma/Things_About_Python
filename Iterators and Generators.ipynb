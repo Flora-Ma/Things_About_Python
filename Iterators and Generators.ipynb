{
 "cells": [
  {
   "cell_type": "markdown",
   "id": "36fa13cb",
   "metadata": {},
   "source": [
    "# Iterators"
   ]
  },
  {
   "cell_type": "code",
   "execution_count": 1,
   "id": "f46f212c",
   "metadata": {},
   "outputs": [
    {
     "name": "stdout",
     "output_type": "stream",
     "text": [
      "1\n",
      "2\n",
      "3\n"
     ]
    }
   ],
   "source": [
    "for elem in [1, 2, 3]:\n",
    "    print(elem)"
   ]
  },
  {
   "cell_type": "markdown",
   "id": "07a1c3d2",
   "metadata": {},
   "source": [
    "The **for** statement calls **iter()** on the container object. The function returns an iterator object that defines the method **\\_\\_next\\_\\_()** which accesses elements in the container one at a time. When there are no more elements, **\\_\\_next\\_\\_()** raises a **StopIteraton** exception which tells the for loop to terminate. You can call the **\\_\\_next\\_\\_()** method using the **next()** built-in function. Under this mechanics behind the iterator protocol, it's easy to add iterator behavior to your classes. Define an **\\_\\_iter\\_\\_()** method which returns an object with a **\\_\\_next\\_\\_()** method."
   ]
  },
  {
   "cell_type": "code",
   "execution_count": 2,
   "id": "bf10844c",
   "metadata": {},
   "outputs": [],
   "source": [
    "class ToUpper:\n",
    "    def __init__(self, text):\n",
    "        self.data = text\n",
    "        self.index = 0\n",
    "        self.size = len(text)\n",
    "    \n",
    "    def __iter__(self):\n",
    "        return self\n",
    "    \n",
    "    def __next__(self):\n",
    "        if self.index == self.size:\n",
    "            raise StopIteration\n",
    "        self.index += 1\n",
    "        return self.data[self.index - 1].upper()"
   ]
  },
  {
   "cell_type": "code",
   "execution_count": 3,
   "id": "26acc724",
   "metadata": {},
   "outputs": [
    {
     "name": "stdout",
     "output_type": "stream",
     "text": [
      "S\n",
      "P\n",
      "A\n"
     ]
    }
   ],
   "source": [
    "up = ToUpper('spam')\n",
    "print(next(up))\n",
    "print(next(up))\n",
    "print(next(up))"
   ]
  },
  {
   "cell_type": "code",
   "execution_count": 4,
   "id": "e58fdf1a",
   "metadata": {},
   "outputs": [
    {
     "name": "stdout",
     "output_type": "stream",
     "text": [
      "S\n",
      "P\n",
      "A\n",
      "M\n"
     ]
    }
   ],
   "source": [
    "for char in ToUpper('spam'):\n",
    "    print(char)"
   ]
  },
  {
   "cell_type": "markdown",
   "id": "4dacc8d0",
   "metadata": {},
   "source": [
    "# Generators"
   ]
  },
  {
   "cell_type": "markdown",
   "id": "03c1ade9",
   "metadata": {},
   "source": [
    "Generators are a simple and powerful tool for creating itertors. They are written like regular functions but use the yield statment whenever they want to return data. Anything that can be done with generators can also be done with class-based iterators as described in the previous section. What makes generators so compact is that the \\_\\_iter\\_\\_() and \\_\\_next\\_\\_() methods are created automatically, program states are saved automatically and StopIteration is raised automatically when generators terminate."
   ]
  },
  {
   "cell_type": "code",
   "execution_count": 5,
   "id": "0376137e",
   "metadata": {},
   "outputs": [
    {
     "name": "stdout",
     "output_type": "stream",
     "text": [
      "S\n",
      "P\n",
      "A\n",
      "M\n"
     ]
    }
   ],
   "source": [
    "def to_upper(data):\n",
    "    for index in range(len(data)):\n",
    "        yield data[index].upper()\n",
    "        \n",
    "for char in to_upper('spam'):\n",
    "    print(char)"
   ]
  },
  {
   "cell_type": "markdown",
   "id": "9032c5a3",
   "metadata": {},
   "source": [
    "# List Comprehension"
   ]
  },
  {
   "cell_type": "code",
   "execution_count": 6,
   "id": "e6d7f18d",
   "metadata": {},
   "outputs": [
    {
     "data": {
      "text/plain": [
       "[0, 1, 4, 9, 16, 25, 36, 49, 64, 81]"
      ]
     },
     "execution_count": 6,
     "metadata": {},
     "output_type": "execute_result"
    }
   ],
   "source": [
    "L = [i*i for i in range(10)]\n",
    "L"
   ]
  },
  {
   "cell_type": "code",
   "execution_count": 7,
   "id": "6725982a",
   "metadata": {},
   "outputs": [
    {
     "data": {
      "text/plain": [
       "[10, 11, 14, 19, 26, 35, 46, 59, 74, 91]"
      ]
     },
     "execution_count": 7,
     "metadata": {},
     "output_type": "execute_result"
    }
   ],
   "source": [
    "L = [x + 10 for x in L]\n",
    "L"
   ]
  },
  {
   "cell_type": "markdown",
   "id": "2f51f1bc",
   "metadata": {},
   "source": [
    "# Generator Expressions"
   ]
  },
  {
   "cell_type": "markdown",
   "id": "8d625bbd",
   "metadata": {},
   "source": [
    "Some simple generators can be coded succinctly as expressions using a syntax similar to list comprehensions but with parentheses instead of square brackets. These expressions are designed for situations where the generator is used right away by an enclosing function. Generator expressions are more compact but less versatile than full generator definitions and tend to be more memory friendly than equivalent list comprehensions."
   ]
  },
  {
   "cell_type": "code",
   "execution_count": 8,
   "id": "be609fe8",
   "metadata": {},
   "outputs": [
    {
     "data": {
      "text/plain": [
       "[0, 1, 4, 9, 16, 25, 36, 49, 64, 81]"
      ]
     },
     "execution_count": 8,
     "metadata": {},
     "output_type": "execute_result"
    }
   ],
   "source": [
    "[i*i for i in range(10)] # list comprehension"
   ]
  },
  {
   "cell_type": "code",
   "execution_count": 9,
   "id": "207f1247",
   "metadata": {},
   "outputs": [
    {
     "data": {
      "text/plain": [
       "285"
      ]
     },
     "execution_count": 9,
     "metadata": {},
     "output_type": "execute_result"
    }
   ],
   "source": [
    "sum(i*i for i in range(10))"
   ]
  },
  {
   "cell_type": "code",
   "execution_count": 10,
   "id": "87074dab",
   "metadata": {},
   "outputs": [
    {
     "data": {
      "text/plain": [
       "{'after', 'dance', 'flower', 'song', 'time'}"
      ]
     },
     "execution_count": 10,
     "metadata": {},
     "output_type": "execute_result"
    }
   ],
   "source": [
    "page = [\"Time after time\", \"Flower dance\", \"Flower song\"]\n",
    "unique_words = set(word.lower() for line in page for word in line.split())\n",
    "unique_words"
   ]
  },
  {
   "cell_type": "code",
   "execution_count": null,
   "id": "10b642ae",
   "metadata": {},
   "outputs": [],
   "source": []
  }
 ],
 "metadata": {
  "kernelspec": {
   "display_name": "Python 3 (ipykernel)",
   "language": "python",
   "name": "python3"
  },
  "language_info": {
   "codemirror_mode": {
    "name": "ipython",
    "version": 3
   },
   "file_extension": ".py",
   "mimetype": "text/x-python",
   "name": "python",
   "nbconvert_exporter": "python",
   "pygments_lexer": "ipython3",
   "version": "3.11.2"
  }
 },
 "nbformat": 4,
 "nbformat_minor": 5
}
