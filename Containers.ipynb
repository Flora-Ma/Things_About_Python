{
 "cells": [
  {
   "cell_type": "markdown",
   "id": "b5f04584",
   "metadata": {},
   "source": [
    "# 1. Python's general purpose built-in containers"
   ]
  },
  {
   "cell_type": "markdown",
   "id": "1256b0b3",
   "metadata": {},
   "source": [
    "## 1.1 list "
   ]
  },
  {
   "cell_type": "markdown",
   "id": "d40a517a",
   "metadata": {},
   "source": [
    "## 1.2 set"
   ]
  },
  {
   "cell_type": "markdown",
   "id": "06f8453c",
   "metadata": {},
   "source": [
    "## 1.3 dict"
   ]
  },
  {
   "cell_type": "markdown",
   "id": "d69a9301",
   "metadata": {},
   "source": [
    "## 1.4 tuple "
   ]
  },
  {
   "cell_type": "markdown",
   "id": "e519aac3",
   "metadata": {},
   "source": [
    "# 2. collections Module"
   ]
  },
  {
   "cell_type": "markdown",
   "id": "c7e299f2",
   "metadata": {},
   "source": [
    "This module implements specialized container datatypes providing alternatives to python's generl purpose built in containers."
   ]
  },
  {
   "cell_type": "code",
   "execution_count": 1,
   "id": "9468b420",
   "metadata": {},
   "outputs": [],
   "source": [
    "import collections "
   ]
  },
  {
   "cell_type": "markdown",
   "id": "61c6c891",
   "metadata": {},
   "source": [
    "## 2.1 Counter "
   ]
  },
  {
   "cell_type": "markdown",
   "id": "275adbf9",
   "metadata": {},
   "source": [
    "class collections.Counter([*iterable-or-mapping*])  \n",
    "A **Counter** is as dict subclass for counting hashable objects. It is a collection where elements are stored as dictionary keys and their counts are stored as dictionary values."
   ]
  },
  {
   "cell_type": "code",
   "execution_count": 2,
   "id": "286c0771",
   "metadata": {},
   "outputs": [
    {
     "data": {
      "text/plain": [
       "Counter({'M': 1, 'i': 4, 's': 4, 'p': 2})"
      ]
     },
     "execution_count": 2,
     "metadata": {},
     "output_type": "execute_result"
    }
   ],
   "source": [
    "from collections import Counter\n",
    "c = Counter('Mississippi')\n",
    "c"
   ]
  },
  {
   "cell_type": "code",
   "execution_count": 3,
   "id": "fa66651e",
   "metadata": {},
   "outputs": [
    {
     "data": {
      "text/plain": [
       "['M', 'i', 's', 'p']"
      ]
     },
     "execution_count": 3,
     "metadata": {},
     "output_type": "execute_result"
    }
   ],
   "source": [
    "list(c) # list unique elements"
   ]
  },
  {
   "cell_type": "code",
   "execution_count": 4,
   "id": "908569f1",
   "metadata": {},
   "outputs": [
    {
     "data": {
      "text/plain": [
       "{'M', 'i', 'p', 's'}"
      ]
     },
     "execution_count": 4,
     "metadata": {},
     "output_type": "execute_result"
    }
   ],
   "source": [
    "set(c) # convert to a set"
   ]
  },
  {
   "cell_type": "code",
   "execution_count": 5,
   "id": "56506942",
   "metadata": {},
   "outputs": [
    {
     "data": {
      "text/plain": [
       "[('i', 4), ('s', 4), ('p', 2), ('M', 1)]"
      ]
     },
     "execution_count": 5,
     "metadata": {},
     "output_type": "execute_result"
    }
   ],
   "source": [
    "c.most_common()"
   ]
  },
  {
   "cell_type": "code",
   "execution_count": 6,
   "id": "c0b41a39",
   "metadata": {},
   "outputs": [
    {
     "data": {
      "text/plain": [
       "[('i', 4), ('s', 4)]"
      ]
     },
     "execution_count": 6,
     "metadata": {},
     "output_type": "execute_result"
    }
   ],
   "source": [
    "c.most_common(2)"
   ]
  },
  {
   "cell_type": "code",
   "execution_count": 7,
   "id": "debe1237",
   "metadata": {},
   "outputs": [
    {
     "data": {
      "text/plain": [
       "[('M', 1), ('p', 2), ('s', 4), ('i', 4)]"
      ]
     },
     "execution_count": 7,
     "metadata": {},
     "output_type": "execute_result"
    }
   ],
   "source": [
    "c.most_common()[::-1]"
   ]
  },
  {
   "cell_type": "code",
   "execution_count": 8,
   "id": "33a036ed",
   "metadata": {},
   "outputs": [
    {
     "data": {
      "text/plain": [
       "Counter({'M': 1, 'i': 4, 'p': 2})"
      ]
     },
     "execution_count": 8,
     "metadata": {},
     "output_type": "execute_result"
    }
   ],
   "source": [
    "del c['s']\n",
    "c"
   ]
  },
  {
   "cell_type": "code",
   "execution_count": 9,
   "id": "485de256",
   "metadata": {},
   "outputs": [
    {
     "data": {
      "text/plain": [
       "Counter()"
      ]
     },
     "execution_count": 9,
     "metadata": {},
     "output_type": "execute_result"
    }
   ],
   "source": [
    "c.clear()\n",
    "c"
   ]
  },
  {
   "cell_type": "markdown",
   "id": "3cc060f4",
   "metadata": {},
   "source": [
    "## 2.2 deque"
   ]
  },
  {
   "cell_type": "markdown",
   "id": "36dbf636",
   "metadata": {},
   "source": [
    "class collections.deque([*iterable[, maxlen]*])  \n",
    "Returns a new deque object initialized left-to-right (using append()) with data from iterable. If iterable is not specified, the new deque is empty.  \n",
    "  \n",
    "Deques(a generalization of stacks and queues) support thread-safe, memory efficient appends and pops from either side with approximately the same O(1) performance. Though list objects support similar operations, they are optimized for fast fixed-length operations and incur O(n) memory movement costs for pop(0) and insert(0, v) operations.  \n",
    "  \n",
    "If maxlen is specified, deque is bounded to the specified maximum length. Once a bounded length deque is full, when new items are added, a corresponding number of items are discarded from the opposite end. It's useful for tracking pools of data where only the most recent activity is of interest."
   ]
  },
  {
   "cell_type": "code",
   "execution_count": 10,
   "id": "ffdda02d",
   "metadata": {},
   "outputs": [
    {
     "data": {
      "text/plain": [
       "deque(['g', 'h', 'i'])"
      ]
     },
     "execution_count": 10,
     "metadata": {},
     "output_type": "execute_result"
    }
   ],
   "source": [
    "from collections import deque\n",
    "d = deque('ghi')\n",
    "d"
   ]
  },
  {
   "cell_type": "code",
   "execution_count": 11,
   "id": "1cfec56f",
   "metadata": {},
   "outputs": [
    {
     "data": {
      "text/plain": [
       "deque(['g', 'h', 'i', 'j'])"
      ]
     },
     "execution_count": 11,
     "metadata": {},
     "output_type": "execute_result"
    }
   ],
   "source": [
    "d.append('j')\n",
    "d"
   ]
  },
  {
   "cell_type": "code",
   "execution_count": 12,
   "id": "6a5ec592",
   "metadata": {},
   "outputs": [
    {
     "data": {
      "text/plain": [
       "deque(['g', 'h', 'i', 'j', 'k', 'l'])"
      ]
     },
     "execution_count": 12,
     "metadata": {},
     "output_type": "execute_result"
    }
   ],
   "source": [
    "d.extend('kl')\n",
    "d"
   ]
  },
  {
   "cell_type": "code",
   "execution_count": 13,
   "id": "2ca96996",
   "metadata": {},
   "outputs": [
    {
     "data": {
      "text/plain": [
       "'l'"
      ]
     },
     "execution_count": 13,
     "metadata": {},
     "output_type": "execute_result"
    }
   ],
   "source": [
    "d.pop()"
   ]
  },
  {
   "cell_type": "code",
   "execution_count": 14,
   "id": "b26d76db",
   "metadata": {},
   "outputs": [
    {
     "data": {
      "text/plain": [
       "deque(['g', 'h', 'i', 'j'])"
      ]
     },
     "execution_count": 14,
     "metadata": {},
     "output_type": "execute_result"
    }
   ],
   "source": [
    "d.pop()\n",
    "d"
   ]
  },
  {
   "cell_type": "code",
   "execution_count": 15,
   "id": "b15d6ebd",
   "metadata": {},
   "outputs": [
    {
     "data": {
      "text/plain": [
       "deque(['f', 'g', 'h', 'i', 'j'])"
      ]
     },
     "execution_count": 15,
     "metadata": {},
     "output_type": "execute_result"
    }
   ],
   "source": [
    "d.appendleft('f')\n",
    "d"
   ]
  },
  {
   "cell_type": "code",
   "execution_count": 16,
   "id": "142a8c74",
   "metadata": {},
   "outputs": [
    {
     "data": {
      "text/plain": [
       "deque(['d', 'e', 'f', 'g', 'h', 'i', 'j'])"
      ]
     },
     "execution_count": 16,
     "metadata": {},
     "output_type": "execute_result"
    }
   ],
   "source": [
    "d.extendleft('ed')\n",
    "d"
   ]
  },
  {
   "cell_type": "code",
   "execution_count": 17,
   "id": "495af354",
   "metadata": {},
   "outputs": [
    {
     "data": {
      "text/plain": [
       "'d'"
      ]
     },
     "execution_count": 17,
     "metadata": {},
     "output_type": "execute_result"
    }
   ],
   "source": [
    "d.popleft()"
   ]
  },
  {
   "cell_type": "code",
   "execution_count": 18,
   "id": "efc2447b",
   "metadata": {},
   "outputs": [
    {
     "data": {
      "text/plain": [
       "deque(['f', 'g', 'h', 'i', 'j'])"
      ]
     },
     "execution_count": 18,
     "metadata": {},
     "output_type": "execute_result"
    }
   ],
   "source": [
    "d.popleft()\n",
    "d"
   ]
  },
  {
   "cell_type": "code",
   "execution_count": 19,
   "id": "1b0796aa",
   "metadata": {},
   "outputs": [
    {
     "data": {
      "text/plain": [
       "deque(['j', 'i', 'h', 'g', 'f'])"
      ]
     },
     "execution_count": 19,
     "metadata": {},
     "output_type": "execute_result"
    }
   ],
   "source": [
    "d.reverse()\n",
    "d"
   ]
  },
  {
   "cell_type": "code",
   "execution_count": 20,
   "id": "6b12ca80",
   "metadata": {},
   "outputs": [
    {
     "data": {
      "text/plain": [
       "deque(['f', 'j', 'i', 'h', 'g'])"
      ]
     },
     "execution_count": 20,
     "metadata": {},
     "output_type": "execute_result"
    }
   ],
   "source": [
    "d.rotate(1)\n",
    "d"
   ]
  },
  {
   "cell_type": "code",
   "execution_count": 21,
   "id": "dfdb6685",
   "metadata": {},
   "outputs": [
    {
     "data": {
      "text/plain": [
       "deque(['j', 'i', 'h', 'g', 'f'])"
      ]
     },
     "execution_count": 21,
     "metadata": {},
     "output_type": "execute_result"
    }
   ],
   "source": [
    "d.rotate(-1)\n",
    "d"
   ]
  },
  {
   "cell_type": "code",
   "execution_count": 22,
   "id": "8967874a",
   "metadata": {},
   "outputs": [
    {
     "data": {
      "text/plain": [
       "deque(['j', 'i', 'h', 'g', 'f'])"
      ]
     },
     "execution_count": 22,
     "metadata": {},
     "output_type": "execute_result"
    }
   ],
   "source": [
    "d.copy()"
   ]
  },
  {
   "cell_type": "code",
   "execution_count": 23,
   "id": "30a033a6",
   "metadata": {},
   "outputs": [
    {
     "data": {
      "text/plain": [
       "'f'"
      ]
     },
     "execution_count": 23,
     "metadata": {},
     "output_type": "execute_result"
    }
   ],
   "source": [
    "d[-1]"
   ]
  },
  {
   "cell_type": "code",
   "execution_count": 24,
   "id": "22714fce",
   "metadata": {},
   "outputs": [
    {
     "data": {
      "text/plain": [
       "deque([])"
      ]
     },
     "execution_count": 24,
     "metadata": {},
     "output_type": "execute_result"
    }
   ],
   "source": [
    "d.clear()\n",
    "d"
   ]
  },
  {
   "cell_type": "markdown",
   "id": "f66f76ae",
   "metadata": {},
   "source": [
    "## 2.3 defaultdict"
   ]
  },
  {
   "cell_type": "markdown",
   "id": "214e10c5",
   "metadata": {},
   "source": [
    "class collections.defaultdict(*default_factory=None*, /[, ...])  \n",
    "**defaultdict** is a subclass of the built-in dict class. When each key is encountered for the first time, an entry is automatically created using the *default_factory* function and is added in the mapping."
   ]
  },
  {
   "cell_type": "code",
   "execution_count": 25,
   "id": "e3663266",
   "metadata": {},
   "outputs": [
    {
     "data": {
      "text/plain": [
       "defaultdict(int, {})"
      ]
     },
     "execution_count": 25,
     "metadata": {},
     "output_type": "execute_result"
    }
   ],
   "source": [
    "from collections import defaultdict\n",
    "s = 'Mississippi'\n",
    "d = defaultdict(int)\n",
    "d"
   ]
  },
  {
   "cell_type": "code",
   "execution_count": 26,
   "id": "330d9e7d",
   "metadata": {},
   "outputs": [
    {
     "data": {
      "text/plain": [
       "dict_items([('M', 1), ('i', 4), ('s', 4), ('p', 2)])"
      ]
     },
     "execution_count": 26,
     "metadata": {},
     "output_type": "execute_result"
    }
   ],
   "source": [
    "for k in s:\n",
    "    d[k] += 1\n",
    "d.items()"
   ]
  },
  {
   "cell_type": "code",
   "execution_count": 27,
   "id": "4bdfd155",
   "metadata": {},
   "outputs": [
    {
     "data": {
      "text/plain": [
       "[('blue', [2, 4]), ('red', [1]), ('yellow', [1, 3])]"
      ]
     },
     "execution_count": 27,
     "metadata": {},
     "output_type": "execute_result"
    }
   ],
   "source": [
    "s = [('yellow', 1), ('blue', 2), ('yellow', 3), ('blue', 4), ('red', 1)]\n",
    "d = defaultdict(list)\n",
    "for k, v in s:\n",
    "    d[k].append(v)\n",
    "sorted(d.items())"
   ]
  },
  {
   "cell_type": "markdown",
   "id": "2761b8b3",
   "metadata": {},
   "source": [
    "## 2.4 OrderedDict "
   ]
  },
  {
   "cell_type": "markdown",
   "id": "9b9d4247",
   "metadata": {},
   "source": [
    "An OrderedDict is a dictionary subclass that remembers the order that keys were first inserted. A dict doesn't track the insertion order and iterating it gives the values in an arbitrary order. But the dict class gained the ability to remember insertion order from Python 3.7. To work with different python versions, OrderedDict guarantees the ability.   \n",
    "  \n",
    "An OrderedDict would be useful for implementing LRU Cache."
   ]
  },
  {
   "cell_type": "code",
   "execution_count": 28,
   "id": "1417107c",
   "metadata": {},
   "outputs": [
    {
     "data": {
      "text/plain": [
       "OrderedDict([('a', 1), ('b', 5), ('c', 3), ('d', 4)])"
      ]
     },
     "execution_count": 28,
     "metadata": {},
     "output_type": "execute_result"
    }
   ],
   "source": [
    "from collections import OrderedDict\n",
    "\n",
    "my_dict = OrderedDict([('a', 1), ('b', 2), ('c', 3)])\n",
    "\n",
    "my_dict['d'] = 4\n",
    "\n",
    "my_dict.update({'b': 5})\n",
    "my_dict"
   ]
  },
  {
   "cell_type": "code",
   "execution_count": 29,
   "id": "4fa1feee",
   "metadata": {},
   "outputs": [
    {
     "data": {
      "text/plain": [
       "OrderedDict([('a', 1), ('b', 5), ('d', 4), ('c', 3)])"
      ]
     },
     "execution_count": 29,
     "metadata": {},
     "output_type": "execute_result"
    }
   ],
   "source": [
    "my_dict.move_to_end('c')\n",
    "my_dict"
   ]
  },
  {
   "cell_type": "code",
   "execution_count": 30,
   "id": "c5786e83",
   "metadata": {},
   "outputs": [
    {
     "data": {
      "text/plain": [
       "OrderedDict([('d', 4), ('a', 1), ('b', 5), ('c', 3)])"
      ]
     },
     "execution_count": 30,
     "metadata": {},
     "output_type": "execute_result"
    }
   ],
   "source": [
    "my_dict.move_to_end('d', last=False)\n",
    "my_dict"
   ]
  },
  {
   "cell_type": "code",
   "execution_count": 31,
   "id": "a1767616",
   "metadata": {},
   "outputs": [
    {
     "data": {
      "text/plain": [
       "('c', 3)"
      ]
     },
     "execution_count": 31,
     "metadata": {},
     "output_type": "execute_result"
    }
   ],
   "source": [
    "my_dict.popitem() # by default last=True, remove the end item, LIFO order"
   ]
  },
  {
   "cell_type": "code",
   "execution_count": 32,
   "id": "c399bf94",
   "metadata": {},
   "outputs": [
    {
     "data": {
      "text/plain": [
       "('d', 4)"
      ]
     },
     "execution_count": 32,
     "metadata": {},
     "output_type": "execute_result"
    }
   ],
   "source": [
    "my_dict.popitem(last=False) # remove the beginning item, FIFO order."
   ]
  },
  {
   "cell_type": "code",
   "execution_count": null,
   "id": "d2744b3f",
   "metadata": {},
   "outputs": [],
   "source": []
  }
 ],
 "metadata": {
  "kernelspec": {
   "display_name": "Python 3 (ipykernel)",
   "language": "python",
   "name": "python3"
  },
  "language_info": {
   "codemirror_mode": {
    "name": "ipython",
    "version": 3
   },
   "file_extension": ".py",
   "mimetype": "text/x-python",
   "name": "python",
   "nbconvert_exporter": "python",
   "pygments_lexer": "ipython3",
   "version": "3.11.2"
  }
 },
 "nbformat": 4,
 "nbformat_minor": 5
}
