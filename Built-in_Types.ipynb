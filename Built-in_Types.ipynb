{
 "cells": [
  {
   "cell_type": "code",
   "execution_count": 4,
   "id": "7e11616c",
   "metadata": {},
   "outputs": [],
   "source": [
    "import math\n",
    "import numpy as np"
   ]
  },
  {
   "cell_type": "markdown",
   "id": "1aac5c35",
   "metadata": {},
   "source": [
    "The principal built-in types are **numerics, sequences, mappings, classes, instances and exceptions**. And there're other built-in types. \n",
    "  \n",
    "Practically all objects can be compared for equality, tested for turth value, and converted to a string.   \n",
    "For comparison operations,\n",
    "- ==: equal\n",
    "- !=: not equal\n",
    "- is: object identity\n",
    "- is not: negated object identity\n",
    "  \n",
    "Non-identical instances of a class normally compare as non-equal unless the class defines the \\_\\_eq\\_\\_() method. Most built-in types define the \\_\\_eq\\_\\_() method."
   ]
  },
  {
   "cell_type": "code",
   "execution_count": 5,
   "id": "5cd2e5e7",
   "metadata": {},
   "outputs": [
    {
     "data": {
      "text/plain": [
       "True"
      ]
     },
     "execution_count": 5,
     "metadata": {},
     "output_type": "execute_result"
    }
   ],
   "source": [
    "a = [1, 2, 0]\n",
    "a == [1, 2, 0]"
   ]
  },
  {
   "cell_type": "code",
   "execution_count": 6,
   "id": "083d1397",
   "metadata": {},
   "outputs": [
    {
     "data": {
      "text/plain": [
       "False"
      ]
     },
     "execution_count": 6,
     "metadata": {},
     "output_type": "execute_result"
    }
   ],
   "source": [
    "a is [1, 2, 0]"
   ]
  },
  {
   "cell_type": "code",
   "execution_count": 7,
   "id": "f477c6a3",
   "metadata": {},
   "outputs": [
    {
     "data": {
      "text/plain": [
       "True"
      ]
     },
     "execution_count": 7,
     "metadata": {},
     "output_type": "execute_result"
    }
   ],
   "source": [
    "b = a\n",
    "a is b"
   ]
  },
  {
   "cell_type": "markdown",
   "id": "3236e85d",
   "metadata": {},
   "source": [
    "# 1. Numeric Types: int, float, complex"
   ]
  },
  {
   "cell_type": "markdown",
   "id": "27fd1e40",
   "metadata": {},
   "source": [
    "Booleans are a subtype of integers."
   ]
  },
  {
   "cell_type": "code",
   "execution_count": 8,
   "id": "47ee3798",
   "metadata": {},
   "outputs": [
    {
     "data": {
      "text/plain": [
       "(2+4j)"
      ]
     },
     "execution_count": 8,
     "metadata": {},
     "output_type": "execute_result"
    }
   ],
   "source": [
    "a = 2 + 4j # complex number\n",
    "a"
   ]
  },
  {
   "cell_type": "code",
   "execution_count": 9,
   "id": "f618f645",
   "metadata": {},
   "outputs": [
    {
     "data": {
      "text/plain": [
       "(2+4j)"
      ]
     },
     "execution_count": 9,
     "metadata": {},
     "output_type": "execute_result"
    }
   ],
   "source": [
    "complex(2, 4)"
   ]
  },
  {
   "cell_type": "markdown",
   "id": "39e937a4",
   "metadata": {},
   "source": [
    "### For ***int*** and ***float*** types, supported numeric operations include:\n",
    "- x+y, x-y, x*y, x/y (quotient of x and y)\n",
    "- x//y (floored quotient of x and y), x%y, divmod(x, y)\n",
    "- -x, +x, abs(x), int(x), float(x)\n",
    "- pow(x, y), x ** y\n",
    "- math.trunc(x) (truncated to Integral)\n",
    "- round(x\\[, n\\]) (x rounded to n digits, rounding half to even)\n",
    "- math.floor(x) (the greatest int <= x)\n",
    "- math.ceil(x) (the least int >= x)"
   ]
  },
  {
   "cell_type": "code",
   "execution_count": 10,
   "id": "63c74d49",
   "metadata": {},
   "outputs": [
    {
     "data": {
      "text/plain": [
       "-4"
      ]
     },
     "execution_count": 10,
     "metadata": {},
     "output_type": "execute_result"
    }
   ],
   "source": [
    "math.trunc(-4.3)"
   ]
  },
  {
   "cell_type": "code",
   "execution_count": 11,
   "id": "be93fa76",
   "metadata": {},
   "outputs": [
    {
     "data": {
      "text/plain": [
       "-5"
      ]
     },
     "execution_count": 11,
     "metadata": {},
     "output_type": "execute_result"
    }
   ],
   "source": [
    "math.floor(-4.3)"
   ]
  },
  {
   "cell_type": "code",
   "execution_count": 12,
   "id": "d4946de8",
   "metadata": {},
   "outputs": [
    {
     "name": "stdout",
     "output_type": "stream",
     "text": [
      "-1\n",
      "1\n"
     ]
    }
   ],
   "source": [
    "# truncate to zero\n",
    "print(int(-3 / 2))\n",
    "print(int(3 / 2))\n",
    "print(math.trunc(-3 / 2))"
   ]
  },
  {
   "cell_type": "code",
   "execution_count": 18,
   "id": "f1e20196",
   "metadata": {},
   "outputs": [
    {
     "data": {
      "text/plain": [
       "-4"
      ]
     },
     "execution_count": 18,
     "metadata": {},
     "output_type": "execute_result"
    }
   ],
   "source": [
    "math.ceil(-4.3)"
   ]
  },
  {
   "cell_type": "markdown",
   "id": "290333f9",
   "metadata": {},
   "source": [
    "### Bitwise operations on integer types\n",
    "- x | y: bitwise or\n",
    "- x & y: bitwise and\n",
    "- x ^ y: bitwise exclusive or\n",
    "- x << n: left shift by n bits\n",
    "- x >> n: right shift by n bits\n",
    "- ~x: the bits of inverted\n",
    "  \n",
    "The priorities of the binary bitwise operations are all lower than the numeric operations and higher than the comparisons; the unary operation ~ has the same priority as the other unary numeric operations (+ and -)."
   ]
  },
  {
   "cell_type": "code",
   "execution_count": 14,
   "id": "201c4664",
   "metadata": {},
   "outputs": [
    {
     "data": {
      "text/plain": [
       "-4"
      ]
     },
     "execution_count": 14,
     "metadata": {},
     "output_type": "execute_result"
    }
   ],
   "source": [
    "~3"
   ]
  },
  {
   "cell_type": "markdown",
   "id": "9830e17c",
   "metadata": {},
   "source": [
    "# 2. Sequence Types: list, tuple, range and other\n",
    "There are three basic sequence types: **lists**, **tuples**, and **range** objects. Additional sequence types are:\n",
    "- **str**: immutable sequences of Unicode points which is tailored for processing text string.\n",
    "- **bytes, bytearray, memoryview**: tailored for processing binary data."
   ]
  },
  {
   "cell_type": "markdown",
   "id": "94730e1f",
   "metadata": {},
   "source": [
    "### Common Sequence Operations\n",
    "*s* and *t* are sequences of the same type, *n, i, j, k* are integers, *x* is an arbitrary object that meets any type and value restrictions imposed by s.\n",
    "- **x in s, x not in s**\n",
    "- **s + t**: the concatenation of s and t (not for range type). Concatenating immutable sequences always results in a new object. This means that building up a sequence by repeated concatenation will have a quadratic runtime cost in the total sequence length. To get a linear runtime cost, switch to alternatives.\n",
    "- __s \\* n__ or __n \\* s__: equivalent to adding s to itself n times\n",
    "- **s\\[i\\], s\\[i:j\\], s\\[i:j:k\\]**\n",
    "- **len(s), min(s), max(s)**\n",
    "- **s.index(x\\[, i\\[, j\\]\\])**: index of the first occurrence of x in s (at or after index i and before index j)\n",
    "- **s.count(x)**: total number of occurrences of x in s"
   ]
  },
  {
   "cell_type": "code",
   "execution_count": 15,
   "id": "63208c66",
   "metadata": {},
   "outputs": [
    {
     "data": {
      "text/plain": [
       "[[2], [2], [2]]"
      ]
     },
     "execution_count": 15,
     "metadata": {},
     "output_type": "execute_result"
    }
   ],
   "source": [
    "lists = [[]] * 3\n",
    "lists[0].append(2)\n",
    "lists"
   ]
  },
  {
   "cell_type": "code",
   "execution_count": 16,
   "id": "709f7e02",
   "metadata": {},
   "outputs": [
    {
     "data": {
      "text/plain": [
       "[[2], [], []]"
      ]
     },
     "execution_count": 16,
     "metadata": {},
     "output_type": "execute_result"
    }
   ],
   "source": [
    "lists = [[] for i in range(3)]\n",
    "lists[0].append(2)\n",
    "lists"
   ]
  },
  {
   "cell_type": "code",
   "execution_count": 17,
   "id": "7f2c134b",
   "metadata": {},
   "outputs": [
    {
     "data": {
      "text/plain": [
       "False"
      ]
     },
     "execution_count": 17,
     "metadata": {},
     "output_type": "execute_result"
    }
   ],
   "source": [
    "[2, 3] in [1, 2, 3]"
   ]
  },
  {
   "cell_type": "code",
   "execution_count": 18,
   "id": "1bc03c2e",
   "metadata": {},
   "outputs": [
    {
     "data": {
      "text/plain": [
       "True"
      ]
     },
     "execution_count": 18,
     "metadata": {},
     "output_type": "execute_result"
    }
   ],
   "source": [
    "# for str, bytes and bytearray, (not) in operations can also be used for subsequence testing\n",
    "'gg' in 'egg' "
   ]
  },
  {
   "cell_type": "markdown",
   "id": "aae281b0",
   "metadata": {},
   "source": [
    "### Mutable Sequence Operations\n",
    "*s* is an instance of a mutable sequence type, *t* is any iterable object and *x* is an arbitrary object that meets any type and value restrictions imposed by *s*.\n",
    "- **s\\[i\\] = x, s\\[i:j\\] = t, s\\[i:j:k\\] = t**\n",
    "- **s.append(x), s.extend(t)** or **s += t**\n",
    "- __s \\*= n__\n",
    "- **s.insert(i, x)**: inserts x into s at the index given by i\n",
    "- **del s[i], del s[i:j], del s[i:j:k]**\n",
    "- **s.remove(x)**: remove the first item from s where s\\[i\\] is equal to x\n",
    "- **s.pop()**\n",
    "- **s.pop(i)**: retrieves the item at i and also removes it from s\n",
    "- **s.reverse()**: reverse items in place\n",
    "- **s.clear()**\n",
    "- **s.copy()**: creates a shallow copy of s\n"
   ]
  },
  {
   "cell_type": "code",
   "execution_count": 19,
   "id": "0ae8eb2e",
   "metadata": {},
   "outputs": [
    {
     "data": {
      "text/plain": [
       "[0, 1, 2, 3, 4, 5, 6]"
      ]
     },
     "execution_count": 19,
     "metadata": {},
     "output_type": "execute_result"
    }
   ],
   "source": [
    "s = list(range(7))\n",
    "s"
   ]
  },
  {
   "cell_type": "code",
   "execution_count": 20,
   "id": "72d4f870",
   "metadata": {},
   "outputs": [
    {
     "data": {
      "text/plain": [
       "[-1, 1, -2, 3, 4, 5, 6]"
      ]
     },
     "execution_count": 20,
     "metadata": {},
     "output_type": "execute_result"
    }
   ],
   "source": [
    "s[0:4:2] = [-1, -2]\n",
    "s"
   ]
  },
  {
   "cell_type": "code",
   "execution_count": 21,
   "id": "0538cc54",
   "metadata": {},
   "outputs": [
    {
     "data": {
      "text/plain": [
       "[-1, 9, 1, -2, 3, 4, 5, 6]"
      ]
     },
     "execution_count": 21,
     "metadata": {},
     "output_type": "execute_result"
    }
   ],
   "source": [
    "s.insert(1, 9)\n",
    "s"
   ]
  },
  {
   "cell_type": "code",
   "execution_count": 22,
   "id": "c55ea15e",
   "metadata": {},
   "outputs": [],
   "source": [
    "if 9 in s:\n",
    "    s.remove(9)"
   ]
  },
  {
   "cell_type": "code",
   "execution_count": 23,
   "id": "baf01be7",
   "metadata": {},
   "outputs": [
    {
     "data": {
      "text/plain": [
       "6"
      ]
     },
     "execution_count": 23,
     "metadata": {},
     "output_type": "execute_result"
    }
   ],
   "source": [
    "s.pop()"
   ]
  },
  {
   "cell_type": "code",
   "execution_count": 24,
   "id": "142cfcfa",
   "metadata": {},
   "outputs": [
    {
     "data": {
      "text/plain": [
       "[5, 4, 3, -2, 1, -1]"
      ]
     },
     "execution_count": 24,
     "metadata": {},
     "output_type": "execute_result"
    }
   ],
   "source": [
    "s.reverse()\n",
    "s"
   ]
  },
  {
   "cell_type": "code",
   "execution_count": 25,
   "id": "be31590f",
   "metadata": {},
   "outputs": [],
   "source": [
    "del s[-1]"
   ]
  },
  {
   "cell_type": "code",
   "execution_count": 26,
   "id": "46f8a6ac",
   "metadata": {},
   "outputs": [
    {
     "data": {
      "text/plain": [
       "[5, 4, 3, -2, 1]"
      ]
     },
     "execution_count": 26,
     "metadata": {},
     "output_type": "execute_result"
    }
   ],
   "source": [
    "s"
   ]
  },
  {
   "cell_type": "code",
   "execution_count": 27,
   "id": "8d9ead0f",
   "metadata": {},
   "outputs": [
    {
     "data": {
      "text/plain": [
       "[5, 4, 3, -2, 1]"
      ]
     },
     "execution_count": 27,
     "metadata": {},
     "output_type": "execute_result"
    }
   ],
   "source": [
    "s.copy()"
   ]
  },
  {
   "cell_type": "markdown",
   "id": "7820f958",
   "metadata": {},
   "source": [
    "### Other about basic sequence types\n",
    "- **list.sort(*key=None, reverse=False*)**: sorts list in place\n",
    "- **tuple, range** are immutable sequence types. Immutable sequence type has implementation support for the **hash()** built-in."
   ]
  },
  {
   "cell_type": "markdown",
   "id": "aa523f76",
   "metadata": {},
   "source": [
    "### Text Sequence Type: str\n",
    "- **str.endswith(), str.startswith()**\n",
    "- __str.find(*sub\\[, start\\[, end\\[\\]*)__:Return the lowest index in the string where substring sub is found within the slice s\\[start:end\\]. Return -1 if sub is not found.\n",
    "- __str.rfind(*sub\\[, start\\[, end\\[\\]*)__\n",
    "- **str.join(iterable)**\n",
    "- **str.lstrip(), str.rstrip(), str.strip()**\n",
    "- **str.replace(*old, new*)**\n",
    "- **str.ljust(width\\[, fillchar\\]), str.rjust(width\\[, fillchar\\])**: Return the string left/right justified in a string of length width. Padding is done using the specified fillchar (default is an ASCII space).\n",
    "- **str.split(*sep=None, maxsplit=-1*)**\n",
    "- **str.lower(), str.upper()**\n"
   ]
  },
  {
   "cell_type": "markdown",
   "id": "869fb4ea",
   "metadata": {},
   "source": [
    "### Binary Sequence Types: bytes, bytearray, memoryview"
   ]
  },
  {
   "cell_type": "markdown",
   "id": "3912ed05",
   "metadata": {},
   "source": [
    "# 3. Set Types: set, frozenset"
   ]
  },
  {
   "cell_type": "markdown",
   "id": "71f58aeb",
   "metadata": {},
   "source": [
    "A *set* object is an unordered collection of distinct hashable objects. There are currently two built-in set types, **set** and **frozenset**. The **set** type is mutable. Since it is mutable, it has no hash value. The **frozenset** type is immutable and hashable."
   ]
  },
  {
   "cell_type": "markdown",
   "id": "6ff6d38a",
   "metadata": {},
   "source": [
    "### Common operations for set and frozenset\n",
    "- __set(*\\[iterable\\]*), frozenset(*\\[iterable\\]*)__\n",
    "- **len(s)**\n",
    "- **x in s, x not in s**\n",
    "- __union(*\\*others*), set | other | ...__: Return a new set with elements from the set and all others.\n",
    "- __intersection(*\\*others*), set & other & ...__: Return a new set with elements common to the set and all others.\n",
    "- __difference(*\\*others*), set - other - ...__: Return a new set with elements in the set that are not in the others.\n",
    "- **symmetric_difference(*other*), set ^ other**: Return a new set with elements in the set or other but not both.\n",
    "-  **copy()**\n",
    "  \n",
    "Note, the non-operator versions of union(), intersection(), difference(), symmetric_difference() methods will accept any iterable as an argument. In contrast, their operator based counterparts require their arguments to be sets. So prefer more readable and less error-prone set('abc').intersection('cbs').\n"
   ]
  },
  {
   "cell_type": "markdown",
   "id": "17c6eedd",
   "metadata": {},
   "source": [
    "### Other frequently used operations for set\n",
    "- __update(*\\*others*), set |= other | ...__: Update the set, adding elements from all others.\n",
    "- __intersection_update(*\\*others*), set &= other & ...__: Update the set, keeping only elements found in it and all others.\n",
    "- __difference_update(*\\*others*), set -= other | ...__: Update the set, removing elements found in others.\n",
    "- **symmetric_difference_update(*other*), set ^= other**: Update the set, keep only elements found in either set, but not in both.\n",
    "- **add(*elem*)**\n",
    "- **remove(*elem*)**: Remove elements *elem* from the set. Raises **KeyError** if *elem* is not contained in the set.\n",
    "- **discard(*elem*)**: Remove element *elem* from the set if it's present.\n",
    "- **pop()**: Remove and return an arbitrary element from the set. Raise **KeyError** if the set is empty.\n",
    "- **clear()**\n",
    "  \n",
    "Note, the non-operator versions of the update(), intersection_update(), difference_update(), and symmetric_difference_update() methods will accept any iterable as an argument."
   ]
  },
  {
   "cell_type": "code",
   "execution_count": 62,
   "id": "5b7d761d",
   "metadata": {},
   "outputs": [
    {
     "data": {
      "text/plain": [
       "frozenset({0, 1, 2, 3, 4})"
      ]
     },
     "execution_count": 62,
     "metadata": {},
     "output_type": "execute_result"
    }
   ],
   "source": [
    "frozenset(np.arange(5))"
   ]
  },
  {
   "cell_type": "code",
   "execution_count": 59,
   "id": "b6e91831",
   "metadata": {},
   "outputs": [
    {
     "data": {
      "text/plain": [
       "{3, 5, 7, 8}"
      ]
     },
     "execution_count": 59,
     "metadata": {},
     "output_type": "execute_result"
    }
   ],
   "source": [
    "a = set([3, 5, 7, 7, 8])\n",
    "a"
   ]
  },
  {
   "cell_type": "code",
   "execution_count": 63,
   "id": "212de317",
   "metadata": {},
   "outputs": [
    {
     "data": {
      "text/plain": [
       "{5, 6, 7, 8}"
      ]
     },
     "execution_count": 63,
     "metadata": {},
     "output_type": "execute_result"
    }
   ],
   "source": [
    "b = {6, 5, 5, 7, 8}\n",
    "b"
   ]
  },
  {
   "cell_type": "code",
   "execution_count": 65,
   "id": "efc19825",
   "metadata": {},
   "outputs": [
    {
     "data": {
      "text/plain": [
       "{3, 5, 6, 7, 8}"
      ]
     },
     "execution_count": 65,
     "metadata": {},
     "output_type": "execute_result"
    }
   ],
   "source": [
    "a.update(b)\n",
    "a"
   ]
  },
  {
   "cell_type": "code",
   "execution_count": 67,
   "id": "223959d5",
   "metadata": {},
   "outputs": [
    {
     "data": {
      "text/plain": [
       "{3, 5, 6, 7, 8}"
      ]
     },
     "execution_count": 67,
     "metadata": {},
     "output_type": "execute_result"
    }
   ],
   "source": [
    "a | b"
   ]
  },
  {
   "cell_type": "code",
   "execution_count": 69,
   "id": "8cf7782f",
   "metadata": {},
   "outputs": [
    {
     "data": {
      "text/plain": [
       "{3, 5, 6, 7, 8, 'd', 'e', 'f'}"
      ]
     },
     "execution_count": 69,
     "metadata": {},
     "output_type": "execute_result"
    }
   ],
   "source": [
    "a.union('def')"
   ]
  },
  {
   "cell_type": "code",
   "execution_count": 70,
   "id": "40c568c8",
   "metadata": {},
   "outputs": [
    {
     "name": "stdout",
     "output_type": "stream",
     "text": [
      "3\n",
      "5\n",
      "6\n",
      "7\n",
      "8\n"
     ]
    }
   ],
   "source": [
    "while a:\n",
    "    print(a.pop())"
   ]
  },
  {
   "cell_type": "markdown",
   "id": "94683e2e",
   "metadata": {},
   "source": [
    "# 4. Mapping Types: dict"
   ]
  },
  {
   "cell_type": "markdown",
   "id": "0a0a8e38",
   "metadata": {},
   "source": [
    "A mapping object maps hashable values to arbitrary objects. There is currently only one standard mapping type, the **dict**. It's mutable."
   ]
  },
  {
   "cell_type": "markdown",
   "id": "8b61377b",
   "metadata": {},
   "source": [
    "### Common operations of dict\n",
    "- **len(d)**\n",
    "- **key in d, key not in d**\n",
    "- **items()**: Return a new view of the dictionary’s items ((key, value) pairs).\n",
    "- **keys(), values()**\n",
    "- **d\\[key\\], d.get(key\\[, default\\])**\n",
    "- **d\\[key\\] = value**\n",
    "- __update(\\[*other*\\])__: Update the dictionary with the key/value pairs from other, overwriting existing keys. Return None. update() accepts either another dictionary object or an iterable of key/value pairs (as tuples or other iterables of length two). If keyword arguments are specified, the dictionary is then updated with those key/value pairs: d.update(red=1, blue=2).\n",
    "- __pop(*key\\[, default\\]*)__: If *key* is in the dictionary, remove it and return its value, else return default. If default is not given and key is not in the dictionary, a **KeyError** is raised.\n",
    "- **pop(*item*)**: Remove and return a (key, value) pair from the dictionary. Pairs are returned in LIFO order.\n",
    "- **clear()**\n",
    "- **copy()**\n"
   ]
  },
  {
   "cell_type": "code",
   "execution_count": 72,
   "id": "5280e9c6",
   "metadata": {},
   "outputs": [
    {
     "data": {
      "text/plain": [
       "{3: 4, 5: 6}"
      ]
     },
     "execution_count": 72,
     "metadata": {},
     "output_type": "execute_result"
    }
   ],
   "source": [
    "d = {3:4, 5:6}\n",
    "d"
   ]
  },
  {
   "cell_type": "code",
   "execution_count": 73,
   "id": "f1eca22d",
   "metadata": {},
   "outputs": [
    {
     "data": {
      "text/plain": [
       "0"
      ]
     },
     "execution_count": 73,
     "metadata": {},
     "output_type": "execute_result"
    }
   ],
   "source": [
    "d.pop(1, 0)"
   ]
  },
  {
   "cell_type": "code",
   "execution_count": 74,
   "id": "eb1633df",
   "metadata": {},
   "outputs": [
    {
     "data": {
      "text/plain": [
       "(5, 6)"
      ]
     },
     "execution_count": 74,
     "metadata": {},
     "output_type": "execute_result"
    }
   ],
   "source": [
    "d.popitem()"
   ]
  },
  {
   "cell_type": "markdown",
   "id": "02c967c6",
   "metadata": {},
   "source": [
    "# 5. Other Built-in Types"
   ]
  },
  {
   "cell_type": "markdown",
   "id": "f5166a11",
   "metadata": {},
   "source": [
    "### Modules"
   ]
  },
  {
   "cell_type": "markdown",
   "id": "eba18e38",
   "metadata": {},
   "source": [
    "### Classes and Class Instances"
   ]
  },
  {
   "cell_type": "markdown",
   "id": "8abbff50",
   "metadata": {},
   "source": [
    "### Functions\n",
    "Function objects are created by function definitions. The only operation on a function object is to call it. **func(argument-list)**"
   ]
  },
  {
   "cell_type": "markdown",
   "id": "4c471a45",
   "metadata": {},
   "source": [
    "### Type Annotation Types: Generic Alias, Union"
   ]
  },
  {
   "cell_type": "markdown",
   "id": "d0dbbf5f",
   "metadata": {},
   "source": [
    "GenericAlias objects are generally created by subscripting a class. They are most often used with container classes, such as list or dict. For example, **set\\[bytes\\]** can be used in type annotations to signify a set in which all the elements are of type bytes."
   ]
  },
  {
   "cell_type": "code",
   "execution_count": 75,
   "id": "fd3d874b",
   "metadata": {},
   "outputs": [],
   "source": [
    "def average(values: list[float]) -> float:\n",
    "    return sum(values) / len(values)"
   ]
  },
  {
   "cell_type": "code",
   "execution_count": 76,
   "id": "39399c6a",
   "metadata": {},
   "outputs": [
    {
     "data": {
      "text/plain": [
       "types.GenericAlias"
      ]
     },
     "execution_count": 76,
     "metadata": {},
     "output_type": "execute_result"
    }
   ],
   "source": [
    "type(dict[str, int])"
   ]
  },
  {
   "cell_type": "code",
   "execution_count": 79,
   "id": "301a9f34",
   "metadata": {},
   "outputs": [
    {
     "data": {
      "text/plain": [
       "dict"
      ]
     },
     "execution_count": 79,
     "metadata": {},
     "output_type": "execute_result"
    }
   ],
   "source": [
    "dd = dict[str, int]()\n",
    "type(dd)"
   ]
  },
  {
   "cell_type": "markdown",
   "id": "5f594f5e",
   "metadata": {},
   "source": [
    "A union object holds the value of the | (bitwise or) operation on multiple type objects."
   ]
  },
  {
   "cell_type": "code",
   "execution_count": 80,
   "id": "6aebb3aa",
   "metadata": {},
   "outputs": [],
   "source": [
    "def square(number: int | float) -> int | float:\n",
    "    return number ** 2"
   ]
  },
  {
   "cell_type": "markdown",
   "id": "949065b6",
   "metadata": {},
   "source": [
    "### Context Manager Types"
   ]
  },
  {
   "cell_type": "code",
   "execution_count": null,
   "id": "df9960eb",
   "metadata": {},
   "outputs": [],
   "source": []
  }
 ],
 "metadata": {
  "kernelspec": {
   "display_name": "Python 3 (ipykernel)",
   "language": "python",
   "name": "python3"
  },
  "language_info": {
   "codemirror_mode": {
    "name": "ipython",
    "version": 3
   },
   "file_extension": ".py",
   "mimetype": "text/x-python",
   "name": "python",
   "nbconvert_exporter": "python",
   "pygments_lexer": "ipython3",
   "version": "3.11.2"
  }
 },
 "nbformat": 4,
 "nbformat_minor": 5
}
