{
 "cells": [
  {
   "cell_type": "code",
   "execution_count": 1,
   "id": "c3448d48",
   "metadata": {},
   "outputs": [],
   "source": [
    "import numpy as np\n",
    "import math"
   ]
  },
  {
   "cell_type": "markdown",
   "id": "13562009",
   "metadata": {},
   "source": [
    "# Math Related"
   ]
  },
  {
   "cell_type": "markdown",
   "id": "fd7412de",
   "metadata": {},
   "source": [
    "- **abs(*x*)**: Return the absolute value of a number.    \n",
    "- **divmod(*a, b*)**: Take two (non-complex) numbers as arguments and return a pair of numbers consisting of their quotient and remainder when using integer division.    \n",
    "- **max(*iterable, \\*, key=None*), max(*iterable, \\*, default, key=None*), max(*arg1, arg2, \\*args, key=None*)**:  \n",
    "Return the largest item in an iterable or the smallest of two or more arguments. There are two optional keyword-only arguments. The *key* argument specifies a one-argument ordering function like that used for list.sort(). The *default* argument specifies an object to return if the provided iterable is empty. If multiple items are maximal, the function returns the first one encountered.\n",
    "- **min(*iterable, \\*, key=None*), min(*iterable, \\*, default, key=None*), min(*arg1, arg2, \\*args, key=None*)**:  \n",
    "Similar to *max* but return the smallest item.\n",
    "- **pow(*base, exp, mod=None*)**: Return *base* to the power *exp*; if *mod* is present, return *base* to the power *exp*, modulo *mod* (computed more efficiently than pow(base, exp)% mod). The form pow(base, exp) is equivalent to using the power operator: base\\*\\*exp.\n",
    "- **round(*number, ndigits=None*)**: Return *number* rounded to *ndigits* precision after the decimal point. If *ndigits* is omitted or is None, it returns the nearest integer to its input. Values are rounded to the closest multiple of 10 to the power minus *ndigits*. *ndigits* can be positive, zero or negative.\n",
    "- **sum(*iterable, /, start=0*)**: Sums *start* and the items of an iterable from left to right and returns the total.\n"
   ]
  },
  {
   "cell_type": "code",
   "execution_count": 2,
   "id": "cee56a2e",
   "metadata": {},
   "outputs": [
    {
     "data": {
      "text/plain": [
       "5.2"
      ]
     },
     "execution_count": 2,
     "metadata": {},
     "output_type": "execute_result"
    }
   ],
   "source": [
    "abs(-5.2)"
   ]
  },
  {
   "cell_type": "code",
   "execution_count": 3,
   "id": "4fc81047",
   "metadata": {},
   "outputs": [
    {
     "data": {
      "text/plain": [
       "(3, 1)"
      ]
     },
     "execution_count": 3,
     "metadata": {},
     "output_type": "execute_result"
    }
   ],
   "source": [
    "divmod(13, 4)"
   ]
  },
  {
   "cell_type": "code",
   "execution_count": 4,
   "id": "3f750b03",
   "metadata": {},
   "outputs": [
    {
     "data": {
      "text/plain": [
       "(3, 3)"
      ]
     },
     "execution_count": 4,
     "metadata": {},
     "output_type": "execute_result"
    }
   ],
   "source": [
    "max([(2, 3), (1, 7), (3, 3)])"
   ]
  },
  {
   "cell_type": "code",
   "execution_count": 5,
   "id": "865c8516",
   "metadata": {},
   "outputs": [
    {
     "data": {
      "text/plain": [
       "(1, 7)"
      ]
     },
     "execution_count": 5,
     "metadata": {},
     "output_type": "execute_result"
    }
   ],
   "source": [
    "max([(2, 3), (1, 7), (3, 3)], key=lambda x: x[1])"
   ]
  },
  {
   "cell_type": "code",
   "execution_count": 6,
   "id": "49d0ded0",
   "metadata": {},
   "outputs": [
    {
     "data": {
      "text/plain": [
       "(1, 7)"
      ]
     },
     "execution_count": 6,
     "metadata": {},
     "output_type": "execute_result"
    }
   ],
   "source": [
    "min([(2, 3), (1, 7), (3, 3)])"
   ]
  },
  {
   "cell_type": "code",
   "execution_count": 7,
   "id": "2d2a4f59",
   "metadata": {},
   "outputs": [
    {
     "data": {
      "text/plain": [
       "(3, 3)"
      ]
     },
     "execution_count": 7,
     "metadata": {},
     "output_type": "execute_result"
    }
   ],
   "source": [
    "min([(3, 3), (1, 7), (2, 3)], key=lambda x: x[1])"
   ]
  },
  {
   "cell_type": "code",
   "execution_count": 8,
   "id": "6b1888e4",
   "metadata": {},
   "outputs": [
    {
     "data": {
      "text/plain": [
       "59049"
      ]
     },
     "execution_count": 8,
     "metadata": {},
     "output_type": "execute_result"
    }
   ],
   "source": [
    "pow(3, 10)"
   ]
  },
  {
   "cell_type": "code",
   "execution_count": 9,
   "id": "38e178a1",
   "metadata": {},
   "outputs": [
    {
     "data": {
      "text/plain": [
       "49"
      ]
     },
     "execution_count": 9,
     "metadata": {},
     "output_type": "execute_result"
    }
   ],
   "source": [
    "pow(3, 10, mod=1000)"
   ]
  },
  {
   "cell_type": "code",
   "execution_count": 10,
   "id": "9b9ad3aa",
   "metadata": {},
   "outputs": [
    {
     "name": "stdout",
     "output_type": "stream",
     "text": [
      "0 0 2 2\n",
      "0.65\n"
     ]
    }
   ],
   "source": [
    "# not 四舍五入\n",
    "# if two multiples are equally close, rounding is done toward the even choice.奇进偶舍 for integer result. \n",
    "print(round(-0.5), round(0.5), round(1.5), round(2.5))\n",
    "print(round(0.645, 2))"
   ]
  },
  {
   "cell_type": "code",
   "execution_count": 11,
   "id": "77f548e5",
   "metadata": {},
   "outputs": [
    {
     "data": {
      "text/plain": [
       "6"
      ]
     },
     "execution_count": 11,
     "metadata": {},
     "output_type": "execute_result"
    }
   ],
   "source": [
    "sum([1, 2, 3])"
   ]
  },
  {
   "cell_type": "markdown",
   "id": "afbff228",
   "metadata": {},
   "source": [
    "# Iterable Related"
   ]
  },
  {
   "cell_type": "markdown",
   "id": "96c10ef5",
   "metadata": {},
   "source": [
    "- **all(*iterable*)**: Return True if all elements of *iterable* are true (or if the iterable is empty).\n",
    "- **any(*iterable*)**: Return True if any element of the *iterable* is true. If the iterable is empty, return False.\n",
    "- **enumerate(*iterable, start=0*)**: Return an enumerate object. The \\_\\_next\\_\\_() method of iterator returned by enumerate() returns a tuple containing a count (from start which defaults to 0) and the values obtained from iterating over iterable.\n",
    "- **filter(*function, iterable*)**: Construct an iterator from those elements of *iterable* for which *function* is true. *filter(function, iterable)* is equivalent to the generator expression *(item for item in iterable if function(item))* if function is not None and *(item for item in iterable if item)* if function is None.\n",
    "- **map(*function, iterable, \\*iterables)**: Return an iterator that applies *function* to every item of *iterable*, yielding the results. If additional *iterables* arguments are passed, *function* must take that many arguments and is applied to the items from all iterables in parallel.\n",
    "- **reversed(*seq*)**: Return a reverse iterator.\n",
    "- **sorted(*iterable, /, \\*, key=None, reverse=False*)**: Return a new sorted list from the items in iterable. *key* argument specifies a function of one argument that is used to extract a comparision key from each element in iterable. Use *functools.cmp_to_key()* to convert an old-style *cmp* function to a key function.\n",
    "- **zip(*\\*iterables, strict=False*)**: Iterate over several iterables in parallel, producing tuples with an item from each one. More formally, zip() returns an iterator of tuples, where the i-th tuple contains the i-th element from each of the argument iterables.Another way to think of zip() is that it turns rows into columns, and columns into rows.zip() is lazy: The elements won't be processed until the iterable is iterated on.If the iterables are assumed to be of equal length, recommend to use the strict=True option. It will raise a ValueError if one iterable is exhausted before the others.\n"
   ]
  },
  {
   "cell_type": "code",
   "execution_count": 12,
   "id": "14602d77",
   "metadata": {},
   "outputs": [
    {
     "data": {
      "text/plain": [
       "False"
      ]
     },
     "execution_count": 12,
     "metadata": {},
     "output_type": "execute_result"
    }
   ],
   "source": [
    "all(np.arange(5))"
   ]
  },
  {
   "cell_type": "code",
   "execution_count": 13,
   "id": "c7b52788",
   "metadata": {},
   "outputs": [
    {
     "data": {
      "text/plain": [
       "True"
      ]
     },
     "execution_count": 13,
     "metadata": {},
     "output_type": "execute_result"
    }
   ],
   "source": [
    "all(np.arange(3, 7))"
   ]
  },
  {
   "cell_type": "code",
   "execution_count": 14,
   "id": "d6bea632",
   "metadata": {},
   "outputs": [
    {
     "data": {
      "text/plain": [
       "True"
      ]
     },
     "execution_count": 14,
     "metadata": {},
     "output_type": "execute_result"
    }
   ],
   "source": [
    "any(np.arange(3))"
   ]
  },
  {
   "cell_type": "code",
   "execution_count": 15,
   "id": "204b292c",
   "metadata": {},
   "outputs": [
    {
     "data": {
      "text/plain": [
       "False"
      ]
     },
     "execution_count": 15,
     "metadata": {},
     "output_type": "execute_result"
    }
   ],
   "source": [
    "any(np.zeros(3))"
   ]
  },
  {
   "cell_type": "code",
   "execution_count": 16,
   "id": "d45bbcd6",
   "metadata": {},
   "outputs": [
    {
     "data": {
      "text/plain": [
       "[1, 1]"
      ]
     },
     "execution_count": 16,
     "metadata": {},
     "output_type": "execute_result"
    }
   ],
   "source": [
    "list(filter(None, [0, 1, 0, 0, 1]))"
   ]
  },
  {
   "cell_type": "code",
   "execution_count": 17,
   "id": "c0754245",
   "metadata": {},
   "outputs": [
    {
     "data": {
      "text/plain": [
       "[0, 2, 4, 6]"
      ]
     },
     "execution_count": 17,
     "metadata": {},
     "output_type": "execute_result"
    }
   ],
   "source": [
    "list(filter(lambda x: x % 2 == 0, np.arange(7)))"
   ]
  },
  {
   "cell_type": "code",
   "execution_count": 18,
   "id": "0ac92453",
   "metadata": {},
   "outputs": [
    {
     "data": {
      "text/plain": [
       "[1, 4, 9]"
      ]
     },
     "execution_count": 18,
     "metadata": {},
     "output_type": "execute_result"
    }
   ],
   "source": [
    "list(map(lambda x: x**2, [1, 2, 3]))"
   ]
  },
  {
   "cell_type": "code",
   "execution_count": 19,
   "id": "907619a3",
   "metadata": {},
   "outputs": [
    {
     "data": {
      "text/plain": [
       "[12, 15, 18]"
      ]
     },
     "execution_count": 19,
     "metadata": {},
     "output_type": "execute_result"
    }
   ],
   "source": [
    "list(map(lambda x, y, z: x + y + z, [1, 2, 3, 5], [4, 5, 6], [7, 8, 9]))"
   ]
  },
  {
   "cell_type": "code",
   "execution_count": 20,
   "id": "b9ce9ea0",
   "metadata": {},
   "outputs": [
    {
     "name": "stdout",
     "output_type": "stream",
     "text": [
      "3\n",
      "4\n",
      "9\n",
      "7\n"
     ]
    }
   ],
   "source": [
    "for item in reversed([7, 9, 4, 3]):\n",
    "    print(item)"
   ]
  },
  {
   "cell_type": "code",
   "execution_count": 21,
   "id": "3e2fa203",
   "metadata": {},
   "outputs": [
    {
     "data": {
      "text/plain": [
       "[(1, 9), (6, 7), (4, 5), (3, 2)]"
      ]
     },
     "execution_count": 21,
     "metadata": {},
     "output_type": "execute_result"
    }
   ],
   "source": [
    "sorted([(4, 5), (6, 7), (3, 2), (1, 9)], key=lambda x:x[1], reverse=True)"
   ]
  },
  {
   "cell_type": "code",
   "execution_count": 22,
   "id": "36975dc9",
   "metadata": {},
   "outputs": [
    {
     "data": {
      "text/plain": [
       "[('a', 0), ('b', 1), ('e', 2)]"
      ]
     },
     "execution_count": 22,
     "metadata": {},
     "output_type": "execute_result"
    }
   ],
   "source": [
    "list(zip('abe', range(3)))"
   ]
  },
  {
   "cell_type": "code",
   "execution_count": 23,
   "id": "184c0638",
   "metadata": {},
   "outputs": [
    {
     "name": "stdout",
     "output_type": "stream",
     "text": [
      "(1, 5)\n",
      "(2, 6)\n",
      "(3, 7)\n",
      "(4, 8)\n"
     ]
    }
   ],
   "source": [
    "for item in zip([1, 2, 3, 4], [5, 6, 7, 8]):\n",
    "    print(item)"
   ]
  },
  {
   "cell_type": "code",
   "execution_count": 24,
   "id": "f1f94f46",
   "metadata": {},
   "outputs": [
    {
     "data": {
      "text/plain": [
       "[(0, 'dog'), (1, 'cat'), (2, 'snake'), (3, 'cow'), (4, 'panda')]"
      ]
     },
     "execution_count": 24,
     "metadata": {},
     "output_type": "execute_result"
    }
   ],
   "source": [
    "animals = ['dog', 'cat', 'snake', 'cow', 'panda']\n",
    "list(enumerate(animals))"
   ]
  },
  {
   "cell_type": "markdown",
   "id": "cdfd5d4d",
   "metadata": {},
   "source": [
    "# Integer Format Related"
   ]
  },
  {
   "cell_type": "markdown",
   "id": "25a9aace",
   "metadata": {},
   "source": [
    "- **bin(*x*)**: Convert an integer number to a binary string prefixed with \"0b\".\n",
    "- **hex(*x*)**: Convert an integer number to a lowercase hexadecimal string prefixed with \"0x\".\n",
    "- **oct(*x*)**: Convert an integer number to an octal string prefixed with '0o\".\n",
    "- **int(*x, base=10*)**: Return an integer object constructed from a number or string x, or return 0 if no arguments are given.  \n",
    "You can use *format()* to control the string format."
   ]
  },
  {
   "cell_type": "code",
   "execution_count": 25,
   "id": "09917bcc",
   "metadata": {},
   "outputs": [
    {
     "data": {
      "text/plain": [
       "'0b1001'"
      ]
     },
     "execution_count": 25,
     "metadata": {},
     "output_type": "execute_result"
    }
   ],
   "source": [
    "bin(9)"
   ]
  },
  {
   "cell_type": "code",
   "execution_count": 26,
   "id": "8aaa457a",
   "metadata": {},
   "outputs": [
    {
     "data": {
      "text/plain": [
       "'-0b1001'"
      ]
     },
     "execution_count": 26,
     "metadata": {},
     "output_type": "execute_result"
    }
   ],
   "source": [
    "bin(-9)"
   ]
  },
  {
   "cell_type": "code",
   "execution_count": 27,
   "id": "48b15d03",
   "metadata": {},
   "outputs": [
    {
     "data": {
      "text/plain": [
       "'0xff'"
      ]
     },
     "execution_count": 27,
     "metadata": {},
     "output_type": "execute_result"
    }
   ],
   "source": [
    "hex(255)"
   ]
  },
  {
   "cell_type": "code",
   "execution_count": 28,
   "id": "c14a985f",
   "metadata": {},
   "outputs": [
    {
     "data": {
      "text/plain": [
       "'-0o377'"
      ]
     },
     "execution_count": 28,
     "metadata": {},
     "output_type": "execute_result"
    }
   ],
   "source": [
    "oct(-255)"
   ]
  },
  {
   "cell_type": "code",
   "execution_count": 29,
   "id": "61484a3b",
   "metadata": {},
   "outputs": [
    {
     "data": {
      "text/plain": [
       "-20"
      ]
     },
     "execution_count": 29,
     "metadata": {},
     "output_type": "execute_result"
    }
   ],
   "source": [
    "int(bin(-20), base=2)"
   ]
  },
  {
   "cell_type": "code",
   "execution_count": 30,
   "id": "0ac416b0",
   "metadata": {},
   "outputs": [
    {
     "data": {
      "text/plain": [
       "90"
      ]
     },
     "execution_count": 30,
     "metadata": {},
     "output_type": "execute_result"
    }
   ],
   "source": [
    "int(oct(90), base=8)"
   ]
  },
  {
   "cell_type": "markdown",
   "id": "5416ca7f",
   "metadata": {},
   "source": [
    "# IO Related "
   ]
  },
  {
   "cell_type": "markdown",
   "id": "daf30e37",
   "metadata": {},
   "source": [
    "- **format(*value, format_spec=empty_str*)**: Convert a *value* to a \"formatted\" representation, as controlled by *format_spec*. [Standard formatting syntax used by most built-in types](https://docs.python.org/3/library/string.html#formatspec).\n",
    "- **input(), input(*prompt*)**: If the *prompt* argument is present, it is written to standard output without a trailing newline. The function then reads a line from input, converts it to a string (stripping a trailing newline), and returns that. When EOF is read, EOFError is raised. \n",
    "- **open(*file, mode='r', bufferring=-1, encoding=None, errors=None, newline=None, closefd=True, opener=None*)**: Open file and return a corresponding file object.\n",
    "- **print(*objects, sep=' ', end='\\n', file=None, flush=False*)**\n",
    "- **repr()**: Return a string containing a printable representation of an object."
   ]
  },
  {
   "cell_type": "markdown",
   "id": "09d27bad",
   "metadata": {},
   "source": [
    "# Built-in Type Related "
   ]
  },
  {
   "cell_type": "markdown",
   "id": "535d1e71",
   "metadata": {},
   "source": [
    "dict(), int(), float(), list(), set(), frozenset(), str(), tuple()"
   ]
  },
  {
   "cell_type": "markdown",
   "id": "f3f8b523",
   "metadata": {},
   "source": [
    "# Other"
   ]
  },
  {
   "cell_type": "markdown",
   "id": "78a2b84b",
   "metadata": {},
   "source": [
    "- **eval(*expression, globals=None, locals=None*)**: The *experssion* argument (string) is parsed an evaluated as a Python experssion using the *globals* and *locals* dictionaries as global and local namespace.\n",
    "- compile()\n",
    "- exec()\n",
    "- len()\n",
    "- range()\n",
    "- type()\n",
    "- help()\n",
    "- ..."
   ]
  }
 ],
 "metadata": {
  "kernelspec": {
   "display_name": "Python 3 (ipykernel)",
   "language": "python",
   "name": "python3"
  },
  "language_info": {
   "codemirror_mode": {
    "name": "ipython",
    "version": 3
   },
   "file_extension": ".py",
   "mimetype": "text/x-python",
   "name": "python",
   "nbconvert_exporter": "python",
   "pygments_lexer": "ipython3",
   "version": "3.11.2"
  }
 },
 "nbformat": 4,
 "nbformat_minor": 5
}
